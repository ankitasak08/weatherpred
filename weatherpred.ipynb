{
  "nbformat": 4,
  "nbformat_minor": 0,
  "metadata": {
    "colab": {
      "provenance": []
    },
    "kernelspec": {
      "name": "python3",
      "display_name": "Python 3"
    },
    "language_info": {
      "name": "python"
    }
  },
  "cells": [
    {
      "cell_type": "code",
      "execution_count": 1,
      "metadata": {
        "colab": {
          "base_uri": "https://localhost:8080/"
        },
        "id": "7lLP7ryAUrcI",
        "outputId": "aec7a51e-159a-4626-c555-64969b84c79f"
      },
      "outputs": [
        {
          "output_type": "stream",
          "name": "stdout",
          "text": [
            "         date         location  valid_time_gmt     month      time  \\\n",
            "0  20140102.0  Nagpur/Sonegaon    1.388602e+09  January    6:40 PM   \n",
            "1  20140102.0  Nagpur/Sonegaon    1.388605e+09  January    7:40 PM   \n",
            "2  20140102.0  Nagpur/Sonegaon    1.388609e+09  January    8:40 PM   \n",
            "3  20140102.0  Nagpur/Sonegaon    1.388612e+09  January    9:40 PM   \n",
            "4  20140102.0  Nagpur/Sonegaon    1.388616e+09  January   10:40 PM   \n",
            "\n",
            "  (Day/Night)  temperature condition  dewPoint  heat_index  ...  wdirection  \\\n",
            "0           N         63.0      Fair      54.0        63.0  ...       350.0   \n",
            "1           N         63.0      Fair      52.0        63.0  ...        20.0   \n",
            "2           N         61.0      Fair      52.0        61.0  ...         NaN   \n",
            "3           N         61.0      Fair      54.0        61.0  ...         NaN   \n",
            "4           N         55.0      Fair      50.0        55.0  ...         NaN   \n",
            "\n",
            "   wdir_cardinal  gust  wspd  uv_desc feels_like  uv_index  clds   rain  \\\n",
            "0              N   0.0   5.0      Low       63.0       0.0   CLR  False   \n",
            "1            NNE   0.0   2.0      Low       63.0       0.0   CLR  False   \n",
            "2           CALM   0.0   NaN      Low       61.0       0.0   CLR  False   \n",
            "3           CALM   0.0   NaN      Low       61.0       0.0   CLR  False   \n",
            "4           CALM   0.0   NaN      Low       55.0       0.0   CLR  False   \n",
            "\n",
            "   Rain Today  \n",
            "0          No  \n",
            "1          No  \n",
            "2          No  \n",
            "3          No  \n",
            "4          No  \n",
            "\n",
            "[5 rows x 24 columns]\n"
          ]
        },
        {
          "output_type": "stream",
          "name": "stderr",
          "text": [
            "<ipython-input-1-5112cd5159b3>:5: DtypeWarning: Columns (22) have mixed types. Specify dtype option on import or set low_memory=False.\n",
            "  df = pd.read_csv(url)\n"
          ]
        }
      ],
      "source": [
        "import pandas as pd\n",
        "import numpy as np\n",
        "import pandas as pd\n",
        "url = \"https://raw.githubusercontent.com/ankitasak08/Machine-Learning-projects/main/nagpurw.csv\"\n",
        "df = pd.read_csv(url)\n",
        "print(df.head())\n"
      ]
    },
    {
      "cell_type": "code",
      "source": [
        "df.columns"
      ],
      "metadata": {
        "colab": {
          "base_uri": "https://localhost:8080/"
        },
        "id": "LK6oTsDdXfq8",
        "outputId": "b254997e-7cbd-49b2-c974-b7f43f23b89d"
      },
      "execution_count": 2,
      "outputs": [
        {
          "output_type": "execute_result",
          "data": {
            "text/plain": [
              "Index(['date', 'location', 'valid_time_gmt', 'month', 'time', '(Day/Night)',\n",
              "       'temperature', 'condition', 'dewPoint', 'heat_index', 'humidity %',\n",
              "       'pressure', 'visibility', 'windchill', 'wdirection', 'wdir_cardinal',\n",
              "       'gust', 'wspd', 'uv_desc', 'feels_like', 'uv_index', 'clds', 'rain',\n",
              "       'Rain Today'],\n",
              "      dtype='object')"
            ]
          },
          "metadata": {},
          "execution_count": 2
        }
      ]
    },
    {
      "cell_type": "code",
      "source": [
        "# Check for missing values\n",
        "missing_values = df.isnull().sum()\n",
        "print(\"Missing values per column:\")\n",
        "print(missing_values)\n",
        "\n",
        "column_to_fill = 'condition'\n",
        "df[column_to_fill].fillna('Haze', inplace=True)\n",
        "df.fillna(df.mean(), inplace=True)\n",
        "\n",
        "\n",
        "# Check again for missing values after filling\n",
        "missing_values_after_filling = df.isnull().sum()\n",
        "print(\"\\nMissing values per column after filling:\")\n",
        "print(missing_values_after_filling)\n"
      ],
      "metadata": {
        "colab": {
          "base_uri": "https://localhost:8080/"
        },
        "id": "Se1TR74xddEw",
        "outputId": "6a5a3bfd-cc76-4402-c9b4-3dcefbfcdf63"
      },
      "execution_count": 12,
      "outputs": [
        {
          "output_type": "stream",
          "name": "stdout",
          "text": [
            "Missing values per column:\n",
            "date                0\n",
            "location            2\n",
            "valid_time_gmt      0\n",
            "month               0\n",
            "time                2\n",
            "(Day/Night)         2\n",
            "temperature         0\n",
            "condition           0\n",
            "dewPoint            0\n",
            "heat_index          0\n",
            "humidity %          0\n",
            "pressure            0\n",
            "visibility          0\n",
            "windchill           0\n",
            "wdirection          0\n",
            "wdir_cardinal     430\n",
            "gust                0\n",
            "wspd                0\n",
            "uv_desc           717\n",
            "feels_like          0\n",
            "uv_index            0\n",
            "clds                2\n",
            "rain                0\n",
            "Rain Today          2\n",
            "dtype: int64\n"
          ]
        },
        {
          "output_type": "stream",
          "name": "stderr",
          "text": [
            "<ipython-input-12-02b16fba1937>:8: FutureWarning: The default value of numeric_only in DataFrame.mean is deprecated. In a future version, it will default to False. In addition, specifying 'numeric_only=None' is deprecated. Select only valid columns or specify the value of numeric_only to silence this warning.\n",
            "  df.fillna(df.mean(), inplace=True)\n"
          ]
        },
        {
          "output_type": "stream",
          "name": "stdout",
          "text": [
            "\n",
            "Missing values per column after filling:\n",
            "date                0\n",
            "location            2\n",
            "valid_time_gmt      0\n",
            "month               0\n",
            "time                2\n",
            "(Day/Night)         2\n",
            "temperature         0\n",
            "condition           0\n",
            "dewPoint            0\n",
            "heat_index          0\n",
            "humidity %          0\n",
            "pressure            0\n",
            "visibility          0\n",
            "windchill           0\n",
            "wdirection          0\n",
            "wdir_cardinal     430\n",
            "gust                0\n",
            "wspd                0\n",
            "uv_desc           717\n",
            "feels_like          0\n",
            "uv_index            0\n",
            "clds                2\n",
            "rain                0\n",
            "Rain Today          2\n",
            "dtype: int64\n"
          ]
        }
      ]
    },
    {
      "cell_type": "markdown",
      "source": [
        "## Model Building"
      ],
      "metadata": {
        "id": "e7VURKgUZxE1"
      }
    },
    {
      "cell_type": "code",
      "source": [
        "import pandas as pd\n",
        "from sklearn.model_selection import train_test_split\n",
        "from sklearn.naive_bayes import GaussianNB\n",
        "from sklearn.metrics import accuracy_score\n",
        "\n",
        "\n",
        "features = ['temperature', 'humidity %', 'pressure', 'windchill', 'wspd', 'rain']\n",
        "\n",
        "X = df[features]\n",
        "y = df['condition']\n",
        "\n",
        "# Convert to numpy arrays\n",
        "X_array = X.values\n",
        "y_array = y.values\n",
        "\n",
        "# Split the dataset into training and testing sets\n",
        "X_train, X_test, y_train, y_test = train_test_split(X_array, y_array, test_size=0.2, random_state=42)\n",
        "\n",
        "# Initialize the Naive Bayes classifier\n",
        "model = GaussianNB()\n",
        "\n",
        "# Train the model\n",
        "model.fit(X_train, y_train)\n",
        "\n",
        "# Make predictions on the test set\n",
        "predictions = model.predict(X_test)\n",
        "print(predictions)\n",
        "\n",
        "# Evaluate the model\n",
        "accuracy = accuracy_score(y_test, predictions)\n",
        "print(f'Accuracy: {accuracy:.2f}')\n"
      ],
      "metadata": {
        "colab": {
          "base_uri": "https://localhost:8080/"
        },
        "id": "4oc7xct4ZcMQ",
        "outputId": "df1ba5ae-a743-44bc-a681-22d919e9bf15"
      },
      "execution_count": 26,
      "outputs": [
        {
          "output_type": "stream",
          "name": "stdout",
          "text": [
            "['Fog' 'Haze' 'Haze' ... 'Haze' 'Haze' 'Haze']\n",
            "Accuracy: 0.73\n"
          ]
        }
      ]
    },
    {
      "cell_type": "code",
      "source": [
        "import pickle\n",
        "model_filename = 'weatherapp.pkl'\n",
        "pickle.dump(model, open(model_filename,'wb'))\n",
        "\n",
        "model = pickle.load(open('weatherapp.pkl','rb'))\n",
        "print(model.predict([[63,68,28.94,63,2,1]]))"
      ],
      "metadata": {
        "colab": {
          "base_uri": "https://localhost:8080/"
        },
        "id": "s38gXgxvjhF8",
        "outputId": "0915f5c3-2666-43c5-8de0-793f405b708b"
      },
      "execution_count": 29,
      "outputs": [
        {
          "output_type": "stream",
          "name": "stdout",
          "text": [
            "['Light Rain with Thunder']\n"
          ]
        }
      ]
    }
  ]
}